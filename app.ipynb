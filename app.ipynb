{
 "cells": [
  {
   "cell_type": "code",
   "execution_count": 8,
   "metadata": {},
   "outputs": [],
   "source": [
    "from nltk.stem.snowball import SnowballStemmer\n",
    "import pickle\n",
    "import re"
   ]
  },
  {
   "cell_type": "code",
   "execution_count": 7,
   "metadata": {},
   "outputs": [
    {
     "ename": "NameError",
     "evalue": "name 'SnowballStemmer' is not defined",
     "output_type": "error",
     "traceback": [
      "\u001b[1;31m---------------------------------------------------------------------------\u001b[0m",
      "\u001b[1;31mNameError\u001b[0m                                 Traceback (most recent call last)",
      "\u001b[1;32m<ipython-input-7-fe361ee5d83c>\u001b[0m in \u001b[0;36m<module>\u001b[1;34m\u001b[0m\n\u001b[0;32m     43\u001b[0m             'won', \"won't\", 'wouldn', \"wouldn't\"])\n\u001b[0;32m     44\u001b[0m \u001b[1;33m\u001b[0m\u001b[0m\n\u001b[1;32m---> 45\u001b[1;33m \u001b[0msnbstemmer\u001b[0m \u001b[1;33m=\u001b[0m \u001b[0mSnowballStemmer\u001b[0m\u001b[1;33m(\u001b[0m\u001b[1;34m'english'\u001b[0m\u001b[1;33m)\u001b[0m\u001b[1;33m\u001b[0m\u001b[1;33m\u001b[0m\u001b[0m\n\u001b[0m\u001b[0;32m     46\u001b[0m \u001b[1;33m\u001b[0m\u001b[0m\n\u001b[0;32m     47\u001b[0m \u001b[1;32mwith\u001b[0m \u001b[0mopen\u001b[0m\u001b[1;33m(\u001b[0m\u001b[1;34m'LR_model.pkl'\u001b[0m\u001b[1;33m,\u001b[0m\u001b[1;34m'rb'\u001b[0m\u001b[1;33m)\u001b[0m \u001b[1;32mas\u001b[0m \u001b[0mfile\u001b[0m\u001b[1;33m:\u001b[0m\u001b[1;33m\u001b[0m\u001b[1;33m\u001b[0m\u001b[0m\n",
      "\u001b[1;31mNameError\u001b[0m: name 'SnowballStemmer' is not defined"
     ]
    }
   ],
   "source": [
    "def removePunctuation(text):\n",
    "    text=re.sub(r'[^A-za-z\\s]','',text)#remove puntuations\n",
    "    text=re.sub(r'\\S*\\d\\S*','',text)#remove alphanumeric words\n",
    "    return text\n",
    "\n",
    "#remove html tags\n",
    "def removeHTML(text):\n",
    "    text=re.sub(r'https?\\S+','',text)\n",
    "    text=re.sub(r'<.*?>','',text)\n",
    "    return text\n",
    "\n",
    "#remove unwanted text from the reviews like instead of i've keep i have \n",
    "#replace n't, 'll, 's, 've, 're, 't, 'd, 'm\n",
    "#from tqdm.notebook import tqdm\n",
    "def subsitute(text):\n",
    "    text=re.sub(r'can\\'t','can not',text)\n",
    "    text=re.sub(r'won\\'t','will not',text)\n",
    "    \n",
    "    text=re.sub(r'n\\'t',' not',text)\n",
    "    text=re.sub(r'\\'ll',' will',text)\n",
    "    text=re.sub(r'\\'s',' is',text)\n",
    "    text=re.sub(r'\\'ve',' have',text)\n",
    "    text=re.sub(r'\\'re',' are',text)\n",
    "    text=re.sub(r'\\'t',' not',text)\n",
    "    text=re.sub(r'\\'d',' would',text)\n",
    "    text=re.sub(r'\\'m',' am',text)\n",
    "    return text\n",
    "\n",
    "stopwords= set(['br', 'the', 'i', 'me', 'my', 'myself', 'we', 'our', 'ours', 'ourselves', 'you', \"you're\", \"you've\",\\\n",
    "            \"you'll\", \"you'd\", 'your', 'yours', 'yourself', 'yourselves', 'he', 'him', 'his', 'himself', \\\n",
    "            'she', \"she's\", 'her', 'hers', 'herself', 'it', \"it's\", 'its', 'itself', 'they', 'them', 'their',\\\n",
    "            'theirs', 'themselves', 'what', 'which', 'who', 'whom', 'this', 'that', \"that'll\", 'these', 'those', \\\n",
    "            'am', 'is', 'are', 'was', 'were', 'be', 'been', 'being', 'have', 'has', 'had', 'having', 'do', 'does', \\\n",
    "            'did', 'doing', 'a', 'an', 'the', 'and', 'but', 'if', 'or', 'because', 'as', 'until', 'while', 'of', \\\n",
    "            'at', 'by', 'for', 'with', 'about', 'against', 'between', 'into', 'through', 'during', 'before', 'after',\\\n",
    "            'above', 'below', 'to', 'from', 'up', 'down', 'in', 'out', 'on', 'off', 'over', 'under', 'again', 'further',\\\n",
    "            'then', 'once', 'here', 'there', 'when', 'where', 'why', 'how', 'all', 'any', 'both', 'each', 'few', 'more',\\\n",
    "            'most', 'other', 'some', 'such', 'only', 'own', 'same', 'so', 'than', 'too', 'very', \\\n",
    "            's', 't', 'can', 'will', 'just', 'don', \"don't\", 'should', \"should've\", 'now', 'd', 'll', 'm', 'o', 're', \\\n",
    "            've', 'y', 'ain', 'aren', \"aren't\", 'couldn', \"couldn't\", 'didn', \"didn't\", 'doesn', \"doesn't\", 'hadn',\\\n",
    "            \"hadn't\", 'hasn', \"hasn't\", 'haven', \"haven't\", 'isn', \"isn't\", 'ma', 'mightn', \"mightn't\", 'mustn',\\\n",
    "            \"mustn't\", 'needn', \"needn't\", 'shan', \"shan't\", 'shouldn', \"shouldn't\", 'wasn', \"wasn't\", 'weren', \"weren't\", \\\n",
    "            'won', \"won't\", 'wouldn', \"wouldn't\"])\n",
    "\n",
    "snbstemmer = SnowballStemmer('english')\n",
    "\n",
    "with open('LR_model.pkl','rb') as file:\n",
    "    clf = pickle.load(file)\n",
    "\n",
    "with open('tfidf_vectorizer.pkl','rb') as file:\n",
    "    tfidf_vectorizer = pickle.load(file)"
   ]
  },
  {
   "cell_type": "code",
   "execution_count": 9,
   "metadata": {},
   "outputs": [],
   "source": [
    "from flask import Flask, render_template, request\n",
    "\n",
    "\n",
    "app = Flask(__name__)\n",
    "\n",
    "@app.route('/')\n",
    "def index():\n",
    "    return render_template('index.html')\n",
    "\n",
    "@app.route('/about')\n",
    "def about():\n",
    "    return render_template('about.html')\n",
    "\n",
    "@app.route('/result',methods=['POST'])\n",
    "def result():\n",
    "    review = request.form['review']\n",
    "    review= removeHTML(review)#removes html tags and attributes\n",
    "    review= subsitute(review)#converts short words to normal words\n",
    "    review= removePunctuation(review).strip()#removes punctuation and alphanumeric words\n",
    "    review = ' '.join(ele for ele in review.split() if ele not in stopwords)\n",
    "    words = review.split()\n",
    "    review = ' '.join([snbstemmer.stem(w) for w in words])\n",
    "    xtest = tfidf_vectorizer.transform([review])\n",
    "    result = clf.predict(xtest)\n",
    "    res_prob = clf.predict_proba(xtest)\n",
    "    if result:\n",
    "        s = \"The review is Positive with probability: {:.2f}\".format(res_prob[0][1])\n",
    "    else:\n",
    "        s = \"The review is Negative with probability: {:.2f}\".format(res_prob[0][0])\n",
    "    return render_template('result.html',to_send=s)\n",
    "\n"
   ]
  },
  {
   "cell_type": "code",
   "execution_count": null,
   "metadata": {},
   "outputs": [],
   "source": []
  }
 ],
 "metadata": {
  "kernelspec": {
   "display_name": "Python 3",
   "language": "python",
   "name": "python3"
  },
  "language_info": {
   "codemirror_mode": {
    "name": "ipython",
    "version": 3
   },
   "file_extension": ".py",
   "mimetype": "text/x-python",
   "name": "python",
   "nbconvert_exporter": "python",
   "pygments_lexer": "ipython3",
   "version": "3.7.3"
  }
 },
 "nbformat": 4,
 "nbformat_minor": 4
}
